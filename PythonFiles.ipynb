{
 "cells": [
  {
   "cell_type": "code",
   "execution_count": 1,
   "metadata": {},
   "outputs": [],
   "source": [
    "from os import listdir\n",
    "from os.path import isfile, join\n",
    "from os import stat\n",
    "from pwd import getpwuid"
   ]
  },
  {
   "cell_type": "markdown",
   "metadata": {},
   "source": [
    "4.1. Answer this question using Python 3 or Tcl as you wish:"
   ]
  },
  {
   "cell_type": "markdown",
   "metadata": {},
   "source": [
    "a) Write a function that given a path to a directory will return two lists, one with the list of\n",
    "the files in this directory and the other with the list of the owners of these files in the same\n",
    "order."
   ]
  },
  {
   "cell_type": "code",
   "execution_count": 31,
   "metadata": {},
   "outputs": [],
   "source": [
    "def list_owners(path):\n",
    "    \n",
    "    files = [f for f in listdir(path) if isfile(join(path, f))]\n",
    "        \n",
    "    owners = []\n",
    "    \n",
    "    filesAndOwners = []\n",
    "        \n",
    "    for i in range(len(files)):\n",
    "        owners.append(getpwuid(stat(files[i]).st_uid).pw_name)\n",
    "\n",
    "    return (files, owners)"
   ]
  },
  {
   "cell_type": "code",
   "execution_count": 33,
   "metadata": {},
   "outputs": [
    {
     "name": "stdout",
     "output_type": "stream",
     "text": [
      "['PythonFiles.ipynb', 'File1.txt'] ['renatanesio', 'renatanesio']\n"
     ]
    }
   ],
   "source": [
    "p = \".\"\n",
    "    \n",
    "f, o = list_owners(p)\n",
    "\n",
    "print(f, o)"
   ]
  },
  {
   "cell_type": "markdown",
   "metadata": {},
   "source": [
    "b) Now, given the list of file names and the list of file owners from item a, write a function to group the files by owner, returning a dictionary with a list of files for each owner."
   ]
  },
  {
   "cell_type": "code",
   "execution_count": 24,
   "metadata": {},
   "outputs": [],
   "source": [
    "def group_by_owners(file_names, file_owners):\n",
    "    \n",
    "    ownersSet = set(file_owners)\n",
    "    uniqueOwners = list(ownersSet)\n",
    "    \n",
    "    ownersDictionary = {}\n",
    "    \n",
    "    \n",
    "    for i in range(len(uniqueOwners)):\n",
    "        ownersDictionary[uniqueOwners[i]] = []\n",
    "        \n",
    "    for x, y in ownersDictionary.items():\n",
    "        for i in range(len(file_owners)):\n",
    "            if(x==file_owners[i]):\n",
    "                y.append(file_names[i])\n",
    "        \n",
    "    print(ownersDictionary)\n",
    "        \n"
   ]
  },
  {
   "cell_type": "code",
   "execution_count": 25,
   "metadata": {},
   "outputs": [
    {
     "name": "stdout",
     "output_type": "stream",
     "text": [
      "{'renatanesio': ['PythonFiles.ipynb', 'File1.txt']}\n"
     ]
    }
   ],
   "source": [
    "group_by_owners(f,o)"
   ]
  }
 ],
 "metadata": {
  "kernelspec": {
   "display_name": "Python 3",
   "language": "python",
   "name": "python3"
  },
  "language_info": {
   "codemirror_mode": {
    "name": "ipython",
    "version": 3
   },
   "file_extension": ".py",
   "mimetype": "text/x-python",
   "name": "python",
   "nbconvert_exporter": "python",
   "pygments_lexer": "ipython3",
   "version": "3.8.3"
  }
 },
 "nbformat": 4,
 "nbformat_minor": 4
}
